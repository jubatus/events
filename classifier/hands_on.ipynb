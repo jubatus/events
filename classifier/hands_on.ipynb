{
 "cells": [
  {
   "cell_type": "markdown",
   "metadata": {
    "slideshow": {
     "slide_type": "slide"
    }
   },
   "source": [
    "\n",
    "\n",
    "## Jubaclassifier Hands-on\n",
    "- 主に\"機械学習入門 実践Jubatusマスター\"の内容について、コードを実行しながら説明\n",
    "- データは書籍とは違うもの(default of credit card clients Data Set)を使います\n",
    "\n",
    "## 手順\n",
    "1. Jubatusの起動\n",
    "1. データの読み込み、Datumに変換\n",
    "1. 作成したDatumをJubatusサーバに投入\n",
    "1. 学習モデルを用いて分類を行う\n",
    "1. 結果の分析をしてみる\n",
    "1. 前処理をしてみる\n",
    "1. 指標のトレードオフ\n",
    "1. まとめ\n"
   ]
  },
  {
   "cell_type": "code",
   "execution_count": null,
   "metadata": {
    "slideshow": {
     "slide_type": "fragment"
    }
   },
   "outputs": [],
   "source": [
    "## データの読み込み、確認\n",
    "import pandas as pd\n",
    "df = pd.read_csv(\"data/default_train.csv\") #データの読み込み\n",
    "print(df.head())"
   ]
  },
  {
   "cell_type": "markdown",
   "metadata": {
    "slideshow": {
     "slide_type": "slide"
    }
   },
   "source": [
    "## 1. Jubatusを起動\n",
    "\n",
    "- ターミナルに戻り、  `$ jubaclassifier -f config/linear.json& -t 1000`と入力します\n",
    "- 今回は線形分類器(AROW)を使ってみます\n",
    "\n",
    "## 2. データを読み込み、Datumに変換"
   ]
  },
  {
   "cell_type": "code",
   "execution_count": null,
   "metadata": {
    "slideshow": {
     "slide_type": "fragment"
    }
   },
   "outputs": [],
   "source": [
    "# データを読み込む関数\n",
    "def read_dataset(path):\n",
    "    df = pd.read_csv(path)\n",
    "    labels = df['Y'].tolist()\n",
    "    df = df.drop('Y', axis=1)\n",
    "    features = df.as_matrix().astype(float)\n",
    "    columns = df.columns.tolist()\n",
    "    return features, labels, columns\n",
    "\n",
    "features_train, labels_train, columns = read_dataset(\"data/default_train.csv\")\n",
    "print(\"columns : {}\".format(columns))\n",
    "print(\"features : {}\".format(features_train))"
   ]
  },
  {
   "cell_type": "code",
   "execution_count": null,
   "metadata": {
    "slideshow": {
     "slide_type": "fragment"
    }
   },
   "outputs": [],
   "source": [
    "## 学習用データをDatum形式に変換\n",
    "from jubatus.common import Datum\n",
    "features_train, labels_train, columns = read_dataset('data/default_train.csv')\n",
    "train_data = []\n",
    "for x, y in zip(features_train, labels_train):\n",
    "    d = Datum({key: float(value) for key, value in zip(columns, x)})\n",
    "    train_data.append([str(y), d])"
   ]
  },
  {
   "cell_type": "markdown",
   "metadata": {
    "slideshow": {
     "slide_type": "subslide"
    }
   },
   "source": [
    "## 3. 作成したデータをJubatusサーバに投入"
   ]
  },
  {
   "cell_type": "code",
   "execution_count": null,
   "metadata": {
    "slideshow": {
     "slide_type": "fragment"
    }
   },
   "outputs": [],
   "source": [
    "from jubatus.classifier.client import Classifier\n",
    "client = Classifier('127.0.0.1', 9199, '') # Jubatusサーバのホストとポートを指定する\n",
    "client.clear() #過去の学習結果を一度初期化する(任意)\n",
    "client.train(train_data) # 学習を実行"
   ]
  },
  {
   "cell_type": "markdown",
   "metadata": {
    "slideshow": {
     "slide_type": "slide"
    }
   },
   "source": [
    "## 4. 学習したモデルを用いて分類を行う\n",
    "\n",
    "- 作った学習モデルを使って、実際に分類をしてみる\n",
    "- テストには`data/default_test.csv`を用いる\n",
    "\n"
   ]
  },
  {
   "cell_type": "code",
   "execution_count": null,
   "metadata": {
    "slideshow": {
     "slide_type": "fragment"
    }
   },
   "outputs": [],
   "source": [
    "# テスト用Datumリストを作る\n",
    "features_test, labels_test, columns = read_dataset('data/default_test.csv')\n",
    "test_data = []\n",
    "for x, y in zip(features_test, labels_test):\n",
    "    d = Datum({key: float(value) for key, value in zip(columns, x)})\n",
    "    test_data.append(d)"
   ]
  },
  {
   "cell_type": "code",
   "execution_count": null,
   "metadata": {
    "slideshow": {
     "slide_type": "fragment"
    }
   },
   "outputs": [],
   "source": [
    "# テストをする\n",
    "results = client.classify(test_data)"
   ]
  },
  {
   "cell_type": "code",
   "execution_count": null,
   "metadata": {
    "slideshow": {
     "slide_type": "fragment"
    }
   },
   "outputs": [],
   "source": [
    "# 結果の確認\n",
    "print(results[0])"
   ]
  },
  {
   "cell_type": "markdown",
   "metadata": {
    "slideshow": {
     "slide_type": "slide"
    }
   },
   "source": [
    "## 5. 結果の分析を行う\n",
    "- 先ほどのスコアの大きい方を分類結果として返す`get_most_likely`関数を作る\n",
    "- 結果の混合行列, accuracy, precision, recall, F-valueを算出する"
   ]
  },
  {
   "cell_type": "code",
   "execution_count": null,
   "metadata": {
    "slideshow": {
     "slide_type": "fragment"
    }
   },
   "outputs": [],
   "source": [
    "# 結果を分析する(スコアの大きい方のラベルを選ぶだけ)\n",
    "def get_most_likely(result):\n",
    "    return max(result, key = lambda x: x.score).label"
   ]
  },
  {
   "cell_type": "code",
   "execution_count": null,
   "metadata": {
    "slideshow": {
     "slide_type": "subslide"
    }
   },
   "outputs": [],
   "source": [
    "# 結果を分析する関数\n",
    "def analyze_results(labels, results, pos_label=\"1\", neg_label=\"0\"):\n",
    "    tp, fp, tn, fn = 0, 0, 0, 0\n",
    "    for label, result in zip(labels, results):\n",
    "        estimated = get_most_likely(result)\n",
    "        label = str(label)\n",
    "        estimated = str(estimated)\n",
    "        if label == pos_label and label == estimated:\n",
    "            tp += 1 #正例と判断し正しい : True Positive\n",
    "        elif label == pos_label and label != estimated:\n",
    "            fn += 1 #負例と判断し間違った : False Negative\n",
    "        elif labels != pos_label and label == estimated:\n",
    "            tn += 1 #負例と判断し正しい : True Negative\n",
    "        else:\n",
    "            fp += 1 #正例と判断し間違った : False Positive\n",
    "    accuracy = float(tp + tn) / float(tp + tn + fp + fn) \n",
    "    precision = float(tp) / float(tp + fp) \n",
    "    recall = float(tp) / float(tp + fn)\n",
    "    f_value = 2.0 * recall * precision / (recall + precision)\n",
    "    # confusion matrix\n",
    "    confusion = pd.DataFrame([[tp, fp], [fn, tn]], \n",
    "                             index=[pos_label, neg_label], columns=[pos_label, neg_label])\n",
    "    return confusion, accuracy, precision, recall, f_value"
   ]
  },
  {
   "cell_type": "code",
   "execution_count": null,
   "metadata": {
    "slideshow": {
     "slide_type": "subslide"
    }
   },
   "outputs": [],
   "source": [
    "# 結果の確認\n",
    "confusion, accuracy, precision, recall, f_value = analyze_results(labels_test, results)\n",
    "print('confusion matrix\\n{0}\\n'.format(confusion))\n",
    "print('metric    : score')\n",
    "print('accuracy  : {0:.3f}'.format(accuracy))\n",
    "print('precision : {0:.3f}'.format(precision))\n",
    "print('recall    : {0:.3f}'.format(recall))\n",
    "print('f_value   : {0:.3f}'.format(f_value))"
   ]
  },
  {
   "cell_type": "markdown",
   "metadata": {
    "slideshow": {
     "slide_type": "slide"
    }
   },
   "source": [
    "## 6. 前処理をしてみる\n",
    "Recallを上げるために => アンダーサンプリング"
   ]
  },
  {
   "cell_type": "code",
   "execution_count": null,
   "metadata": {
    "slideshow": {
     "slide_type": "fragment"
    }
   },
   "outputs": [],
   "source": [
    "# 各ラベルの学習用データの数\n",
    "print(df[df[\"Y\"]==0].shape)\n",
    "print(df[df[\"Y\"]==1].shape)"
   ]
  },
  {
   "cell_type": "code",
   "execution_count": null,
   "metadata": {
    "slideshow": {
     "slide_type": "subslide"
    }
   },
   "outputs": [],
   "source": [
    "import random\n",
    "random.seed(42) # シードで乱数を固定(再現性を得たい場合に実行)\n",
    "def under_sampling(features, labels, reduce_label, reduce_rate=0.2):\n",
    "    # reduce_rateの割合で、reduce_labelを残す(残りは捨てる)\n",
    "    sampled_features, sampled_labels = [], []\n",
    "    for feature, label in zip(features, labels):\n",
    "        label = str(label)\n",
    "        if label != reduce_label or random.random() < reduce_rate:\n",
    "            sampled_features.append(feature)\n",
    "            sampled_labels.append(label)\n",
    "    return sampled_features, sampled_labels"
   ]
  },
  {
   "cell_type": "code",
   "execution_count": null,
   "metadata": {
    "slideshow": {
     "slide_type": "subslide"
    }
   },
   "outputs": [],
   "source": [
    "# アンダーサンプリング\n",
    "reduce_rate = 0.2\n",
    "sampled_features_train, sampled_labels_train = under_sampling(features_train, labels_train, \n",
    "                                                              reduce_label=\"0\",reduce_rate=reduce_rate)\n",
    "# 学習用Datumリストを作る\n",
    "sampled_train_data = []\n",
    "for x, y in zip(sampled_features_train, sampled_labels_train):\n",
    "    d = Datum({key: float(value) for key, value in zip(columns, x)})\n",
    "    sampled_train_data.append([str(y), d])\n",
    "# 学習をする\n",
    "client = Classifier('127.0.0.1', 9199, '')\n",
    "client.clear()\n",
    "client.train(sampled_train_data)\n",
    "# テストをする\n",
    "results = client.classify(test_data)\n"
   ]
  },
  {
   "cell_type": "code",
   "execution_count": null,
   "metadata": {
    "slideshow": {
     "slide_type": "subslide"
    }
   },
   "outputs": [],
   "source": [
    "# 結果を分析する\n",
    "confusion, accuracy, precision, recall, f_value = analyze_results(labels_test, results)\n",
    "print('confusion matrix\\n{0}\\n'.format(confusion))\n",
    "print('metric    : score')\n",
    "print('accuracy  : {0:.3f}'.format(accuracy))\n",
    "print('precision : {0:.3f}'.format(precision))\n",
    "print('recall    : {0:.3f}'.format(recall))\n",
    "print('f_value   : {0:.3f}'.format(f_value))"
   ]
  },
  {
   "cell_type": "markdown",
   "metadata": {
    "slideshow": {
     "slide_type": "slide"
    }
   },
   "source": [
    "## 7. 指標のトレードオフ\n",
    "PrecisionとRecallは、トレードオフの関係にある\n",
    "\n",
    "|metric|score<br>normal|score<br>under sampling|\n",
    "|---|---|---|\n",
    "|Accuracy|0.803|0.542|\n",
    "|Precision|**0.568**|**0.276**|\n",
    "|Recall|**0.291**|**0.716**|\n",
    "|f_value|0.385|0.398|\n",
    "\n"
   ]
  },
  {
   "cell_type": "code",
   "execution_count": null,
   "metadata": {
    "slideshow": {
     "slide_type": "subslide"
    }
   },
   "outputs": [],
   "source": [
    "%matplotlib inline\n",
    "import numpy as np\n",
    "import matplotlib.pyplot as plt\n",
    "# アンダーサンプリングの割合を変えていく\n",
    "rs = np.linspace(0,1.0,11)\n",
    "precisions = []\n",
    "recalls = []\n"
   ]
  },
  {
   "cell_type": "code",
   "execution_count": null,
   "metadata": {
    "slideshow": {
     "slide_type": "subslide"
    }
   },
   "outputs": [],
   "source": [
    "for r in rs:\n",
    "    sampled_features_train, sampled_labels_train = under_sampling(features_train, labels_train, reduce_label=\"0\",reduce_rate=r)\n",
    "    # 学習用Datumリストを作る\n",
    "    sampled_train_data = []\n",
    "    for x, y in zip(sampled_features_train, sampled_labels_train):\n",
    "        d = Datum({key: float(value) for key, value in zip(columns, x)})\n",
    "        sampled_train_data.append([str(y), d])\n",
    "    # 学習をする\n",
    "    client = Classifier('127.0.0.1', 9199, '')\n",
    "    client.clear()\n",
    "    client.train(sampled_train_data)\n",
    "    # テストをする\n",
    "    results = client.classify(test_data)\n",
    "    confusion, accuracy, precision, recall, f_value = analyze_results(labels_test, results)\n",
    "    precisions.append(precision)\n",
    "    recalls.append(recall)\n",
    "#     print(confusion)\n",
    "    print(\"rate:{:.1f} precision:{:.2f} recall:{:.2f} accuracy:{:.2f} f-value:{:.2f}\".format(r, precision, recall, accuracy, f_value))"
   ]
  },
  {
   "cell_type": "code",
   "execution_count": null,
   "metadata": {
    "slideshow": {
     "slide_type": "subslide"
    }
   },
   "outputs": [],
   "source": [
    "# plotを行う\n",
    "plt.plot(rs, precisions,\"o-\",alpha=0.5,label=\"precision\")\n",
    "plt.plot(rs,recalls,\"o-\",alpha=0.5,label=\"recall\")\n",
    "plt.xlim(0,1)\n",
    "plt.ylim(0,1)\n",
    "plt.legend()\n",
    "plt.show()"
   ]
  },
  {
   "cell_type": "markdown",
   "metadata": {
    "slideshow": {
     "slide_type": "slide"
    }
   },
   "source": [
    "## まとめ\n",
    "\n",
    "- Jubatusを使って分類をやってみた\n",
    "- 分類の評価指標はたくさんあるので、**目的に合わせて選ぶ**\n",
    "- データをうまく処理することで、線形分類器でも精度を上げることが可能\n",
    " "
   ]
  },
  {
   "cell_type": "code",
   "execution_count": null,
   "metadata": {},
   "outputs": [],
   "source": []
  }
 ],
 "metadata": {
  "celltoolbar": "Slideshow",
  "kernelspec": {
   "display_name": "Python 2",
   "language": "python",
   "name": "python2"
  },
  "language_info": {
   "codemirror_mode": {
    "name": "ipython",
    "version": 2
   },
   "file_extension": ".py",
   "mimetype": "text/x-python",
   "name": "python",
   "nbconvert_exporter": "python",
   "pygments_lexer": "ipython2",
   "version": "2.7.13"
  }
 },
 "nbformat": 4,
 "nbformat_minor": 2
}
