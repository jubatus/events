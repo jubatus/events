{
 "cells": [
  {
   "cell_type": "markdown",
   "metadata": {},
   "source": [
    "# Jubakit\n",
    "\n",
    "### Step.1 データセットの読み込み"
   ]
  },
  {
   "cell_type": "code",
   "execution_count": null,
   "metadata": {
    "collapsed": true
   },
   "outputs": [],
   "source": [
    "import pandas as pd\n",
    "\n",
    "def load_dataset(path, label=\"Y\"):\n",
    "    df = pd.read_csv(path)\n",
    "    y = df[label].tolist()\n",
    "    X = df.drop(label, axis=1).as_matrix()\n",
    "    return X, y\n",
    "\n",
    "X_train, y_train = load_dataset(\"data/default_train.csv\")\n",
    "X_test, y_test = load_dataset(\"data/default_test.csv\")"
   ]
  },
  {
   "cell_type": "markdown",
   "metadata": {},
   "source": [
    "### Step.2 データセットの変換"
   ]
  },
  {
   "cell_type": "code",
   "execution_count": null,
   "metadata": {
    "collapsed": true
   },
   "outputs": [],
   "source": [
    "from jubakit.classifier import Dataset\n",
    "\n",
    "dataset_train = Dataset.from_array(X_train, y_train)\n",
    "dataset_test = Dataset.from_array(X_test, y_test)"
   ]
  },
  {
   "cell_type": "markdown",
   "metadata": {},
   "source": [
    "### Step.3 学習と予測を行う"
   ]
  },
  {
   "cell_type": "code",
   "execution_count": null,
   "metadata": {},
   "outputs": [],
   "source": [
    "from jubakit.classifier import Classifier, Config\n",
    "\n",
    "config = Config(method=\"AROW\", parameter={\"regularization_weight\": 0.1})\n",
    "classifier = Classifier.run(config)\n",
    "\n",
    "# 学習を行う\n",
    "for _ in classifier.train(dataset_train):\n",
    "    pass\n",
    "\n",
    "# 予測を行う\n",
    "y_pred = []\n",
    "for (_, _, result) in classifier.classify(dataset_test):\n",
    "    y_pred.append(int(result[0][0]))\n",
    "\n",
    "# 分析結果を集計する（分類チュートリアルから流用）\n",
    "def analyze_results(labels, results, pos_label=1, neg_label=0):\n",
    "    tp, fp, tn, fn = 0, 0, 0, 0\n",
    "    for label, result in zip(labels, results):\n",
    "        if label == pos_label and label == result:\n",
    "            tp += 1\n",
    "        elif label == pos_label and label != result:\n",
    "            fn += 1\n",
    "        elif labels != pos_label and label == result:\n",
    "            tn += 1\n",
    "        else:\n",
    "            fp += 1\n",
    "    accuracy = float(tp + tn) / float(tp + tn + fp + fn)\n",
    "    precision = float(tp) / float(tp + fp)\n",
    "    recall = float(tp) / float(tp + fn)\n",
    "    f_value = 2.0 * recall * precision / (recall + precision)\n",
    "    # confusion matrix\n",
    "    confusion = pd.DataFrame([[tp, fp], [fn, tn]], index=[pos_label, neg_label], columns=[pos_label, neg_label])\n",
    "    return confusion, accuracy, precision, recall, f_value\n",
    "\n",
    "confusion, accuracy, precision, recall, f_value = analyze_results(y_test, y_pred)\n",
    "print('confusion matrix\\n{0}\\n'.format(confusion))\n",
    "print('metric    : score')\n",
    "print('accuracy  : {0:.3f}'.format(accuracy))\n",
    "print('precision : {0:.3f}'.format(precision))\n",
    "print('recall    : {0:.3f}'.format(recall))\n",
    "print('f_value   : {0:.3f}'.format(f_value))"
   ]
  },
  {
   "cell_type": "markdown",
   "metadata": {},
   "source": [
    "### Step.4 scikit-learn wrapperを試してみる\n",
    "\n",
    "scikit-learn と同じインターフェースでJubatusを使うことのできる機能がJubakitには搭載されています。\n",
    "\n",
    "分類を行う場合には、線形分類器クラス`LinearClassifier`もしくは近傍探索クラス`NearestNeighborsClassifier`を使うことができます。"
   ]
  },
  {
   "cell_type": "code",
   "execution_count": null,
   "metadata": {},
   "outputs": [],
   "source": [
    "from jubakit.wrapper.classifier import LinearClassifier\n",
    "\n",
    "clf = LinearClassifier(method=\"AROW\", regularization_weight=0.1)\n",
    "clf.fit(X_train, y_train)\n",
    "y_pred = clf.predict(X_test)\n",
    "\n",
    "confusion, accuracy, precision, recall, f_value = analyze_results(y_test, y_pred)\n",
    "print('confusion matrix\\n{0}\\n'.format(confusion))\n",
    "print('metric    : score')\n",
    "print('accuracy  : {0:.3f}'.format(accuracy))\n",
    "print('precision : {0:.3f}'.format(precision))\n",
    "print('recall    : {0:.3f}'.format(recall))\n",
    "print('f_value   : {0:.3f}'.format(f_value))"
   ]
  },
  {
   "cell_type": "markdown",
   "metadata": {},
   "source": [
    "### Step.5 パラメータチューニングをしてみる\n",
    "\n",
    "scikit-learnのGridSearchCVを利用してパラメータチューニングを行うことができます。"
   ]
  },
  {
   "cell_type": "code",
   "execution_count": null,
   "metadata": {},
   "outputs": [],
   "source": [
    "from jubakit.wrapper.classifier import LinearClassifier\n",
    "from sklearn.model_selection import GridSearchCV\n",
    "\n",
    "param_grid = {\n",
    "    \"method\": [\"AROW\", \"CW\"],\n",
    "    \"regularization_weight\": [0.01, 0.1, 1.0, 10, 100]\n",
    "}\n",
    "\n",
    "clf = LinearClassifier()\n",
    "searcher = GridSearchCV(clf, cv=4, param_grid=param_grid, verbose=2)\n",
    "searcher.fit(X_train, y_train)"
   ]
  },
  {
   "cell_type": "code",
   "execution_count": null,
   "metadata": {},
   "outputs": [],
   "source": [
    "from operator import itemgetter\n",
    "means = searcher.cv_results_['mean_test_score']\n",
    "params = searcher.cv_results_['params']\n",
    "grid_scores = sorted([(mean, param) for mean, param in zip(means, params)], key=itemgetter(0), reverse=True)\n",
    "for i, grid_score in enumerate(grid_scores):\n",
    "    print('Rank:{0}\\tScore:{1:.3f}\\tParameter:{2}'.format(i+1, grid_score[0], grid_score[1]))"
   ]
  }
 ],
 "metadata": {
  "kernelspec": {
   "display_name": "Python 3",
   "language": "python",
   "name": "python3"
  },
  "language_info": {
   "codemirror_mode": {
    "name": "ipython",
    "version": 3
   },
   "file_extension": ".py",
   "mimetype": "text/x-python",
   "name": "python",
   "nbconvert_exporter": "python",
   "pygments_lexer": "ipython3",
   "version": "3.6.1"
  }
 },
 "nbformat": 4,
 "nbformat_minor": 2
}
