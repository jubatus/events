{
 "cells": [
  {
   "cell_type": "markdown",
   "metadata": {},
   "source": [
    "# Python feature extraction plugin hands-on\n",
    "\n",
    "Jubatusの特徴抽出プラグインをPythonで実装できるようになりました。\n",
    "\n",
    "実装方法は簡単。Pythonで特徴抽出クラスを記述し、設定ファイルからプラグインを読み込むだけです。\n",
    "\n",
    "分析コードは特に変更の必要ありません。\n",
    "\n",
    "以下では、時系列特徴抽出プラグイン (自己回帰プラグイン）を用いて学習と予測を行うためのサンプルコードを提供します。"
   ]
  },
  {
   "cell_type": "markdown",
   "metadata": {},
   "source": [
    "### Step.1 Jubatusサーバの起動\n",
    "\n",
    "Python特徴抽出プラグインでは、プラグインの.pyファイルが配置してある場所まで`PYTHONPATH`を通す必要があります。\n",
    "\n",
    "ここでは `$HOME/jubatus/events/hands-on-5th/python-plugin` に配置することにし、`PYTHONPATH`を以下のように通します。\n",
    "```\n",
    "$ export PYTHONPATH=$PYTHONPATH:$HOME/jubatus/events/hands-on-5th/python-plugin\n",
    "```\n",
    "\n",
    "`PYTYONPATH`が通せたら、以下のコマンドで回帰用のJubatusサーバを起動します。\n",
    "\n",
    "```\n",
    "$ jubaregression -f config.json -t 1000\n",
    "```\n",
    "\n",
    "-t オプションはタイムアウト時間で、JupyterからJubatusを呼んだ際の遅延を考慮して設定します。\n",
    "\n",
    "これで準備は完了です。"
   ]
  },
  {
   "cell_type": "markdown",
   "metadata": {},
   "source": [
    "### Step.2 関連ライブラリの読み込み"
   ]
  },
  {
   "cell_type": "code",
   "execution_count": null,
   "metadata": {},
   "outputs": [],
   "source": [
    "%matplotlib inline\n",
    "import datetime\n",
    "import numpy as np\n",
    "import pandas as pd\n",
    "import statsmodels.api as sm # 時系列データ読み込み用\n",
    "from jubatus import Regression\n",
    "from jubatus.common import Datum"
   ]
  },
  {
   "cell_type": "markdown",
   "metadata": {},
   "source": [
    "### Step.3 学習/予測を行うコードの記述"
   ]
  },
  {
   "cell_type": "code",
   "execution_count": null,
   "metadata": {
    "collapsed": true
   },
   "outputs": [],
   "source": [
    "def train_and_estimate(data, train_rate=0.9, disp_rate=1):\n",
    "    # 回帰クライアントの起動\n",
    "    regression = Regression('127.0.0.1', 9199, \"\")\n",
    "    regression.clear()\n",
    "\n",
    "    # 学習用データサイズを設定\n",
    "    n_train = int(len(data)*train_rate)\n",
    "\n",
    "    # 可視化用\n",
    "    answer = []\n",
    "    prediction = []\n",
    "    index = df.index[1:]\n",
    "\n",
    "    for i in range(len(data)-1):\n",
    "        y_true = float(data[i+1])  # 正解データ\n",
    "        answer.append(y_true)      # 可視化用\n",
    "\n",
    "        if i > n_train:\n",
    "            # 予測を行う\n",
    "            x = Datum({\"data\": prediction[-1]})   # 1期前のデータを入力にする\n",
    "            y_pred = regression.estimate([x])[0]  # 現在の値を予測する\n",
    "            prediction.append(y_pred)             # 予測結果を保存する\n",
    "        else:\n",
    "            # 学習を行う\n",
    "            x = Datum({\"data\": data[i]})     # 1期前のデータを入力にする\n",
    "            regression.train([[y_true, x]])  # 学習する\n",
    "            prediction.append(y_true)        # 正解を保存する(可視化用)\n",
    "\n",
    "    # RMSEを計算\n",
    "    rmse = np.sqrt(((np.array(answer[n_train:]) - np.array(prediction[n_train:]))**2).mean())\n",
    "    \n",
    "    # 可視化\n",
    "    df_result = pd.DataFrame({\"answer\": answer, \"predict\": prediction}, index=index)\n",
    "    df_result[int(len(df_result)*(1.0-disp_rate)):].plot(figsize=(18,12), title=\"RMSE={0:.3f}\".format(rmse))"
   ]
  },
  {
   "cell_type": "markdown",
   "metadata": {},
   "source": [
    "### Step.4 実験：ノッティンガムの平均気温予測"
   ]
  },
  {
   "cell_type": "code",
   "execution_count": null,
   "metadata": {
    "collapsed": true
   },
   "outputs": [],
   "source": [
    "# データセットの取得\n",
    "target = 'nottem'\n",
    "df = sm.datasets.get_rdataset(target).data\n",
    "def convert_date(date):\n",
    "    month, year = np.modf(float(date))\n",
    "    year = round(year)\n",
    "    month = round(month / (1.0 / 12) + 1)\n",
    "    return datetime.datetime(int(year), int(month), 1)\n",
    "df.time = df.time.apply(convert_date)\n",
    "df.index = pd.to_datetime(df.time, format='%Y')\n",
    "df[target] = df[target].astype(float)\n",
    "df = df.drop('time', axis=1)\n",
    "\n",
    "# pandas形式をlistに変換する\n",
    "data = df[target].as_matrix().tolist()\n",
    "\n",
    "# 学習と予測\n",
    "train_and_estimate(data, disp_rate=0.3)"
   ]
  },
  {
   "cell_type": "markdown",
   "metadata": {},
   "source": [
    "### Step.4 実験：太陽黒点予測"
   ]
  },
  {
   "cell_type": "code",
   "execution_count": null,
   "metadata": {
    "collapsed": true
   },
   "outputs": [],
   "source": [
    "# データセットの取得\n",
    "target = 'sunspots'\n",
    "df = sm.datasets.get_rdataset(target).data\n",
    "# 日付変換 + 整形\n",
    "def convert_date(date):\n",
    "    month, year = np.modf(float(date))\n",
    "    year = round(year)\n",
    "    month = round(month / (1.0 / 12) + 1)\n",
    "    return datetime.datetime(int(year), int(month), 1)\n",
    "\n",
    "df.time = df.time.apply(convert_date)\n",
    "df.index = pd.to_datetime(df.time, format='%Y')\n",
    "df[target] = df[target].astype(float)\n",
    "df = df.drop('time', axis=1)\n",
    "\n",
    "# pandas形式をlistに変換する\n",
    "data = df[target].as_matrix().tolist()\n",
    "\n",
    "# 学習と予測\n",
    "train_and_estimate(data, disp_rate=0.3)"
   ]
  }
 ],
 "metadata": {
  "kernelspec": {
   "display_name": "Python 3",
   "language": "python",
   "name": "python3"
  },
  "language_info": {
   "codemirror_mode": {
    "name": "ipython",
    "version": 3
   },
   "file_extension": ".py",
   "mimetype": "text/x-python",
   "name": "python",
   "nbconvert_exporter": "python",
   "pygments_lexer": "ipython3",
   "version": "3.6.1"
  }
 },
 "nbformat": 4,
 "nbformat_minor": 2
}
